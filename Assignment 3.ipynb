{
 "cells": [
  {
   "cell_type": "code",
   "execution_count": 1,
   "metadata": {},
   "outputs": [
    {
     "data": {
      "text/plain": [
       "array([ 2,  5,  8, 11, 14, 17, 20, 23, 26, 29, 32, 35, 38, 41, 44, 47])"
      ]
     },
     "execution_count": 1,
     "metadata": {},
     "output_type": "execute_result"
    }
   ],
   "source": [
    "#Question 1\n",
    "import numpy as np\n",
    "np.arange(2, 50, 3)"
   ]
  },
  {
   "cell_type": "code",
   "execution_count": 18,
   "metadata": {},
   "outputs": [
    {
     "name": "stdout",
     "output_type": "stream",
     "text": [
      "5\n",
      "1\n",
      "2\n",
      "3\n",
      "4\n",
      "5\n",
      "6\n",
      "7\n",
      "8\n",
      "9\n",
      "10\n",
      "List:  [1, 3, 5, 7, 9]\n",
      "List:  [2, 4, 6, 8, 10]\n",
      "Array:  [1 3 5 7 9]\n",
      "Array:  [ 2  4  6  8 10]\n",
      "Concatenate:  [ 1  3  5  7  9  2  4  6  8 10]\n",
      "Sorted Array:  [ 1  2  3  4  5  6  7  8  9 10]\n"
     ]
    }
   ],
   "source": [
    "#Question 2\n",
    "n = int(input()) \n",
    "mylist=[]\n",
    "ele=[]\n",
    "for i in range(0, n): \n",
    "    mylist.append(int(input())) \n",
    "    ele.append(int(input()))\n",
    "print(\"List: \",mylist)  # displaying list\n",
    "print(\"List: \",ele)     # displaying list\n",
    "arr=np.array(mylist) # converting list to array\n",
    "arr1=np.array(ele)   # converting list to array\n",
    "print(\"Array: \",arr)    # displaying array\n",
    "print(\"Array: \",arr1)   # displaying array\n",
    "con=(np.concatenate([arr,arr1]))    #Concatenate arrays\n",
    "print(\"Concatenate: \",con)\n",
    "con.sort()               #Sorting arrays\n",
    "print('Sorted Array: ',con)\n"
   ]
  },
  {
   "cell_type": "code",
   "execution_count": 20,
   "metadata": {},
   "outputs": [
    {
     "name": "stdout",
     "output_type": "stream",
     "text": [
      "[[[11 12 13 11]\n",
      "  [21 22 23 24]\n",
      "  [31 32 33 34]]\n",
      "\n",
      " [[ 1  1  1  1]\n",
      "  [ 2  2  2  2]\n",
      "  [ 3  3  3  3]]]\n",
      "Total Number of elements in 3D Numpy array :  24\n"
     ]
    }
   ],
   "source": [
    "#Question 3\n",
    "arr3D = np.array([ [[11, 12, 13, 11], [21, 22, 23, 24], [31, 32, 33, 34]],\n",
    "                 [[1, 1, 1, 1], [2, 2, 2, 2], [3, 3, 3, 3]] ])\n",
    "print(arr3D)\n",
    "\n",
    "print('Total Number of elements in 3D Numpy array : ', np.size(arr3D))\n"
   ]
  },
  {
   "cell_type": "code",
   "execution_count": 23,
   "metadata": {},
   "outputs": [
    {
     "data": {
      "text/plain": [
       "(6, 1)"
      ]
     },
     "execution_count": 23,
     "metadata": {},
     "output_type": "execute_result"
    }
   ],
   "source": [
    "#Question 4\n",
    "a = np.array([1, 2, 3, 4, 5, 6])\n",
    "a2 = a[np.newaxis, :]   # np.newaxis to add a new axis\n",
    "a2.shape\n",
    "\n",
    "a3 = np.expand_dims(a, axis=1) # np.expand_dims to add an axis at index position 1 \n",
    "a3.shape\n"
   ]
  },
  {
   "cell_type": "code",
   "execution_count": 30,
   "metadata": {},
   "outputs": [
    {
     "data": {
      "text/plain": [
       "array([[1, 1],\n",
       "       [2, 2],\n",
       "       [3, 3],\n",
       "       [4, 4]])"
      ]
     },
     "execution_count": 30,
     "metadata": {},
     "output_type": "execute_result"
    }
   ],
   "source": [
    "# Question 5\n",
    "a1 = np.array([[1, 1],[2, 2]])\n",
    "a2 = np.array([[3, 3],[4, 4]])\n",
    "np.vstack((a1, a2))   #stack vertically with vstack\n",
    "\n"
   ]
  },
  {
   "cell_type": "code",
   "execution_count": 31,
   "metadata": {},
   "outputs": [
    {
     "data": {
      "text/plain": [
       "array([[1, 1, 3, 3],\n",
       "       [2, 2, 4, 4]])"
      ]
     },
     "execution_count": 31,
     "metadata": {},
     "output_type": "execute_result"
    }
   ],
   "source": [
    "a3 = np.array([[1, 1],[2, 2]])\n",
    "a4 = np.array([[3, 3],[4, 4]])\n",
    "np.hstack((a3, a4))   #stack horizontally with hstack"
   ]
  },
  {
   "cell_type": "code",
   "execution_count": 34,
   "metadata": {},
   "outputs": [
    {
     "name": "stdout",
     "output_type": "stream",
     "text": [
      "[11 12 13 14 15 16 17 18 19 20]\n"
     ]
    }
   ],
   "source": [
    "# Question 6\n",
    "a = np.array([11, 11, 12, 13, 14, 15, 16, 17, 12, 13, 11, 14, 18, 19, 20])\n",
    "unique_values = np.unique(a)\n",
    "print(unique_values)\n"
   ]
  }
 ],
 "metadata": {
  "kernelspec": {
   "display_name": "Python 3",
   "language": "python",
   "name": "python3"
  },
  "language_info": {
   "codemirror_mode": {
    "name": "ipython",
    "version": 3
   },
   "file_extension": ".py",
   "mimetype": "text/x-python",
   "name": "python",
   "nbconvert_exporter": "python",
   "pygments_lexer": "ipython3",
   "version": "3.8.3"
  }
 },
 "nbformat": 4,
 "nbformat_minor": 4
}
